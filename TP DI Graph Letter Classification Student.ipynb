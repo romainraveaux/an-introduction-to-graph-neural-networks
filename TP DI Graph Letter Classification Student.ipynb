{
 "cells": [
  {
   "cell_type": "markdown",
   "metadata": {
    "colab_type": "text",
    "id": "Dd0__tX7I7Ji"
   },
   "source": [
    "# A Simple Graph Neural Network from Scratch\n",
    "# Goals : \n",
    "1. An illustration of GCN for graph classification\n",
    "2. A toy application to Letter classification\n",
    "3. A lecture on Structured Machine Learning\n",
    "\n",
    "# Author: Romain Raveaux (romain.raveaux@univ-tours.fr)\n",
    "# Acknowledgement \n",
    "1. Datasets and functions to read data are taken from http://gmprdia.univ-lr.fr/\n"
   ]
  },
  {
   "cell_type": "markdown",
   "metadata": {},
   "source": [
    "# The lecture\n",
    "The content of the is notebook is based on the following lectures : \n",
    "Supervised Machine Learning for structured input/output: Polytech, Tours\n",
    "\n",
    "*   1\\. Introduction to supervised Machine Learning: A probabilistic introduction [PDF](http://romain.raveaux.free.fr/document/courssupervisedmachinelearningRaveaux.pdf)\n",
    "\n",
    "*   2\\. Connecting local models : The case of chains [PDF slides](http://romain.raveaux.free.fr/document/Connecting%20local%20models%20the%20case%20of%20chains%20.pdf)\n",
    "\n",
    "*   3\\. Connecting local models : Beyond chains and trees.[PDF slides](http://romain.raveaux.free.fr/document/Structured%20Output%20Learning.pdf)\n",
    "\n",
    "*   4\\. Machine Learning and Graphs : Introduction and problems [PDF slides](http://romain.raveaux.free.fr/document/cours%20IA%20DI5%20graphs%20introV2.pdf)\n",
    "\n",
    "*   5\\. **Graph Neural Networks.** [PDF slides](http://romain.raveaux.free.fr/document/graph%20neural%20networks%20romain%20raveaux.pdf)\n",
    "\n",
    "*   6\\. Graph Kernels. [PDF slides](http://romain.raveaux.free.fr/document/graph%20kernel%20romain%20raveaux.pdf)\n"
   ]
  },
  {
   "cell_type": "markdown",
   "metadata": {
    "colab_type": "text",
    "id": "wss6c9JtNP9g"
   },
   "source": [
    "## Install requirements\n",
    "\n",
    "*   [Network](https://networkx.github.io/)\n",
    "*   [Pytorch](https://pytorch.org/)\n"
   ]
  },
  {
   "cell_type": "code",
   "execution_count": 2,
   "metadata": {
    "colab": {},
    "colab_type": "code",
    "collapsed": true,
    "id": "i-nm23YSArxH"
   },
   "outputs": [],
   "source": [
    "#!pip install networkx\n",
    "#!pip install torch\n",
    "#!pip install scipy\n",
    "#!pip install matplotlib"
   ]
  },
  {
   "cell_type": "markdown",
   "metadata": {
    "colab_type": "text",
    "id": "x0SeNZxQm1JP"
   },
   "source": [
    "##Download Data\n",
    "\n",
    "###Letter Database\n",
    "\n",
    "Graphs that represent distorted letter drawings. They consider the 15 capital letters of the Roman alphabet that consist of straight lines only (A, E, F, H, I, K, L, M, N, T, V, W, X, Y, Z). Each node is labeled with a two-dimensional attribute giving its position relative to a reference coordinate system. Edges are unlabeled. The graph database consists of a training set, a validation set, and a test set of size 750 each. Also, three levels of distortions are provided.\n",
    "\n",
    "This dataset is part of [IAM Graph Database Repository](http://www.fki.inf.unibe.ch/databases/iam-graph-database) and it is also linked in the [IAPR TC15 resources](https://iapr-tc15.greyc.fr/links.html).\n",
    "\n",
    "It can be considered as a **TOY EXAMPLE** for graph classification.\n",
    "\n",
    "> Riesen, K. and Bunke, H.: [IAM Graph Database Repository for Graph Based Pattern Recognition and Machine Learning.](https://link.springer.com/chapter/10.1007/978-3-540-89689-0_33) In: da Vitora Lobo, N. et al. (Eds.), SSPR&SPR 2008, LNCS, vol. 5342, pp. 287-297, 2008.\n"
   ]
  },
  {
   "cell_type": "code",
   "execution_count": 3,
   "metadata": {
    "colab": {},
    "colab_type": "code",
    "collapsed": true,
    "id": "gMZyaF7om5e3"
   },
   "outputs": [],
   "source": [
    "#!wget https://iapr-tc15.greyc.fr/IAM/Letter.zip\n",
    "#!unzip Letter.zip"
   ]
  },
  {
   "cell_type": "markdown",
   "metadata": {
    "colab_type": "text",
    "id": "eMQ5BYNSm7Dy"
   },
   "source": [
    "## Prepare data reader\n",
    "\n",
    "IAM graphs are provided as a GXL file:\n",
    "\n",
    "\n",
    "```\n",
    "<gxl>\n",
    "  <graph id=\"GRAPH_ID\" edgeids=\"false\" edgemode=\"undirected\">\n",
    "    <node id=\"_0\">\n",
    "      <attr name=\"x\">\n",
    "        <float>0.812867</float>\n",
    "      </attr>\n",
    "      <attr name=\"y\">\n",
    "        <float>0.630453</float>\n",
    "      </attr>\n",
    "    </node>\n",
    "    ...\n",
    "    <node id=\"_N\">\n",
    "      ...\n",
    "    </node>\n",
    "    <edge from=\"_0\" to=\"_1\"/>\n",
    "    ...\n",
    "    <edge from=\"_M\" to=\"_N\"/>\n",
    "  </graph>\n",
    "</gxl>\n",
    "```"
   ]
  },
  {
   "cell_type": "code",
   "execution_count": 4,
   "metadata": {
    "colab": {},
    "colab_type": "code",
    "collapsed": true,
    "id": "Zsq0VV1Zm90t"
   },
   "outputs": [],
   "source": [
    "import numpy as np\n",
    "import xml.etree.ElementTree as ET\n",
    "import networkx as nx\n",
    "import torch\n",
    "\n",
    "\n",
    "def read_letters(file):\n",
    "  \"\"\"Parse GXL file and returns a networkx graph\n",
    "  \"\"\"\n",
    "  \n",
    "  tree_gxl = ET.parse(file)\n",
    "  root_gxl = tree_gxl.getroot()\n",
    "  node_label = {}\n",
    "  node_id = []\n",
    "  \n",
    "  # Parse nodes\n",
    "  for i, node in enumerate(root_gxl.iter('node')):\n",
    "    node_id += [node.get('id')]\n",
    "    for attr in node.iter('attr'):\n",
    "      if (attr.get('name') == 'x'):\n",
    "        x = float(attr.find('float').text)\n",
    "      elif (attr.get('name') == 'y'):\n",
    "        y = float(attr.find('float').text)\n",
    "    node_label[i] = [x, y]\n",
    "\n",
    "  node_id = np.array(node_id)\n",
    "\n",
    "  # Create adjacency matrix\n",
    "  am = np.zeros((len(node_id), len(node_id)))\n",
    "  for edge in root_gxl.iter('edge'):\n",
    "    s = np.where(node_id==edge.get('from'))[0][0]\n",
    "    t = np.where(node_id==edge.get('to'))[0][0]\n",
    "\n",
    "    # Undirected Graph\n",
    "    am[s,t] = 1\n",
    "    am[t,s] = 1\n",
    "\n",
    "  # Create the networkx graph\n",
    "  G = nx.from_numpy_matrix(am)\n",
    "  nx.set_node_attributes(G, node_label, 'position')\n",
    "  \n",
    "  return G\n"
   ]
  },
  {
   "cell_type": "markdown",
   "metadata": {
    "colab_type": "text",
    "id": "aXcMe6-moAD3"
   },
   "source": [
    "## Load Data with NetworkX"
   ]
  },
  {
   "cell_type": "code",
   "execution_count": 5,
   "metadata": {
    "colab": {},
    "colab_type": "code",
    "id": "KuUOu0WXn_UD"
   },
   "outputs": [
    {
     "data": {
      "image/png": "[encoded data removed]",
      "text/plain": [
       "<Figure size 432x288 with 1 Axes>"
      ]
     },
     "metadata": {},
     "output_type": "display_data"
    }
   ],
   "source": [
    "import os\n",
    "\n",
    "# Select distortion [LOW, MED, HIGH]\n",
    "distortion = 'LOW'\n",
    "\n",
    "# Select letter [A, E, F, H, I, K, L, M, N, T, V, W, X, Y, Z]\n",
    "letter = 'K'\n",
    "\n",
    "# Select id [0-149]\n",
    "id=100\n",
    "\n",
    "# Read the graph and draw it using networkx tools\n",
    "G = read_letters(os.path.join('Letter', distortion, letter+'P1_'+ str(id).zfill(4) +'.gxl'))\n",
    "nx.draw(G, pos=dict(G.nodes(data='position')))"
   ]
  },
  {
   "cell_type": "markdown",
   "metadata": {
    "colab_type": "text",
    "id": "wbIGUtvinndy"
   },
   "source": [
    "### Define dataset\n"
   ]
  },
  {
   "cell_type": "markdown",
   "metadata": {
    "colab_type": "text",
    "id": "80Zc4UkXnq-P"
   },
   "source": [
    "#### Dataset Division\n",
    "\n",
    "The dataset is divided by means of CXL files in *train*, *validation* and *test* with the correspondance filename and class:\n",
    "\n",
    "\n",
    "```\n",
    "<GraphCollection>\n",
    "  <fingerprints base=\"/scratch/mneuhaus/progs/letter-database/automatic/0.1\" classmodel=\"henry5\" count=\"750\">\n",
    "    <print file=\"AP1_0100.gxl\" class=\"A\"/>\n",
    "    ...\n",
    "    <print file=\"ZP1_0149.gxl\" class=\"Z\"/>\n",
    "  </fingerprints>\n",
    "</GraphCollection>\n",
    "```"
   ]
  },
  {
   "cell_type": "code",
   "execution_count": 6,
   "metadata": {
    "colab": {},
    "colab_type": "code",
    "collapsed": true,
    "id": "VmnbAzmAntwE"
   },
   "outputs": [],
   "source": [
    "def getFileList(file_path):\n",
    "  \"\"\"Parse CXL file and returns the corresponding file list and class\n",
    "  \"\"\"\n",
    "  \n",
    "  elements, classes = [], []\n",
    "  tree = ET.parse(file_path)\n",
    "  root = tree.getroot()\n",
    "  \n",
    "  for child in root:\n",
    "    for sec_child in child:\n",
    "      if sec_child.tag == 'print':\n",
    "        elements += [sec_child.attrib['file']]\n",
    "        classes += sec_child.attrib['class']\n",
    "        \n",
    "  return elements, classes"
   ]
  },
  {
   "cell_type": "markdown",
   "metadata": {
    "colab_type": "text",
    "id": "ldmSx2gDn5j5"
   },
   "source": [
    "#### Define Dataset Class\n",
    "Pytorch provides an abstract class representig a dataset, ```torch.utils.data.Dataset```. We need to override two methods:\n",
    "\n",
    "*   ```__len__``` so that ```len(dataset)``` returns the size of the dataset.\n",
    "*   ```__getitem__``` to support the indexing such that ```dataset[i]``` can be used to get i-th sample\n"
   ]
  },
  {
   "cell_type": "code",
   "execution_count": 7,
   "metadata": {
    "colab": {},
    "colab_type": "code",
    "id": "pmlH2lD3n4nJ"
   },
   "outputs": [
    {
     "name": "stdout",
     "output_type": "stream",
     "text": [
      "750\n",
      "2\n",
      "750\n",
      "AP1_0000.gxl\n",
      "['A' 'E' 'F' 'H' 'I' 'K' 'L' 'M' 'N' 'T' 'V' 'W' 'X' 'Y' 'Z']\n",
      "15\n",
      "750\n",
      "750\n",
      "[[0.626163 2.85025 ]\n",
      " [0.617416 0.715336]\n",
      " [0.572522 1.65465 ]\n",
      " [1.65172  1.66186 ]\n",
      " [2.1      2.78    ]\n",
      " [0.706782 0.799407]]\n",
      "[[0. 1. 0. 0. 1. 0.]\n",
      " [1. 0. 0. 0. 0. 0.]\n",
      " [0. 0. 0. 1. 0. 0.]\n",
      " [0. 0. 1. 0. 0. 0.]\n",
      " [1. 0. 0. 0. 0. 1.]\n",
      " [0. 0. 0. 0. 1. 0.]]\n",
      "2\n"
     ]
    }
   ],
   "source": [
    "import torch.utils.data as data\n",
    "from torch.utils.data import DataLoader\n",
    "\n",
    "class Letters(data.Dataset):\n",
    "  def __init__(self, root_path, file_list):\n",
    "    self.root = root_path\n",
    "    self.file_list = file_list\n",
    "    \n",
    "    # List of files and corresponding labels\n",
    "    self.graphs, self.labels = getFileList(os.path.join(self.root, self.file_list))\n",
    "    \n",
    "    # Labels to numeric value\n",
    "    self.unique_labels = np.unique(self.labels)\n",
    "    self.num_classes = len(self.unique_labels)\n",
    "    \n",
    "    self.labels = [np.where(target == self.unique_labels)[0][0] \n",
    "                   for target in self.labels]\n",
    "    \n",
    "    \n",
    "  def __getitem__(self, index):\n",
    "    # Read the graph and label\n",
    "    g = read_letters(os.path.join(self.root, self.graphs[index]))\n",
    "    target = self.labels[index]\n",
    "    \n",
    "    nodelist, nodes = map(list, zip(*g.nodes(data='position')))\n",
    "\n",
    "    nodes = np.array(nodes)\n",
    "    edges = np.array(nx.adjacency_matrix(g, nodelist=nodelist).todense())\n",
    "    \n",
    "    return nodes, edges, target\n",
    "  \n",
    "  def label2class(self, label):\n",
    "    # Converts the numeric label to the corresponding string\n",
    "    return self.unique_labels[label]\n",
    "  \n",
    "  def __len__(self):\n",
    "    # Subset length\n",
    "    return len(self.labels)\n",
    "\n",
    "  \n",
    "# Define the corresponding subsets for train, validation and test.\n",
    "trainset = Letters(os.path.join('Letter', distortion), 'train.cxl')\n",
    "validset = Letters(os.path.join('Letter', distortion), 'validation.cxl')\n",
    "testset = Letters(os.path.join('Letter', distortion), 'test.cxl')\n",
    "\n",
    "print(len(trainset.labels))\n",
    "print((trainset.labels[100]))\n",
    "print(len(trainset.graphs))\n",
    "print((trainset.graphs[0]))\n",
    "print((trainset.unique_labels))\n",
    "print((trainset.num_classes))\n",
    "\n",
    "print(len(validset.labels))\n",
    "print(len(testset.labels))\n",
    "\n",
    "print(trainset.__getitem__(100)[0])\n",
    "print(trainset.__getitem__(100)[1])\n",
    "print(trainset.__getitem__(100)[2])"
   ]
  },
  {
   "cell_type": "markdown",
   "metadata": {
    "colab_type": "text",
    "id": "OeMwHjQGpV7w"
   },
   "source": [
    "### Prepare DataLoader\n",
    "\n",
    "```torch.utils.data.DataLoader``` is an iterator which provides:\n",
    "\n",
    "\n",
    "*   Data batching\n",
    "*   Shuffling the data\n",
    "*   Parallel data loading\n",
    "\n",
    "In our specific case, we need to deal with graphs of many sizes."
   ]
  },
  {
   "cell_type": "code",
   "execution_count": 24,
   "metadata": {
    "colab": {},
    "colab_type": "code",
    "collapsed": true,
    "id": "hzZvj-gopbUT"
   },
   "outputs": [],
   "source": [
    "from scipy.linalg import block_diag\n",
    "\n",
    "def collate(samples):\n",
    "    # The input `samples` is a list of pairs\n",
    "    #  (graph, label).\n",
    "    batched_nodes, batched_edges, labels = map(list, zip(*samples))\n",
    "    \n",
    "    graph_shape = list(map(lambda g: g.shape[0], batched_nodes))\n",
    "    \n",
    "    # Return Node features, adjacency matrix, graph size and labels\n",
    "    return  torch.tensor(np.concatenate(batched_nodes, axis=0)).float(), \\\n",
    "            torch.tensor(block_diag(*batched_edges)).float(), \\\n",
    "            torch.tensor(graph_shape), \\\n",
    "            torch.tensor(labels)\n",
    "        \n",
    "# Define the three dataloaders. Train data will be shuffled at each epoch   \n",
    "train_loader = DataLoader(trainset, batch_size=32, shuffle=True,\n",
    "                         collate_fn=collate)\n",
    "valid_loader = DataLoader(validset, batch_size=32, collate_fn=collate)\n",
    "test_loader = DataLoader(testset, batch_size=32, collate_fn=collate)"
   ]
  },
  {
   "cell_type": "markdown",
   "metadata": {
    "colab_type": "text",
    "id": "XZxC6VIDp_HW"
   },
   "source": [
    "## Define Model\n",
    "\n",
    "Firstly, we have to define a Graph Convolution layer"
   ]
  },
  {
   "cell_type": "markdown",
   "metadata": {
    "colab_type": "text",
    "id": "OpPJlWzQOZ9h"
   },
   "source": [
    "### Graph Convolution\n",
    "\n",
    "![Graph Convolution](http://romain.raveaux.free.fr/document/simplgcnn.PNG)\n",
    "![Graph Convolution](https://user-images.githubusercontent.com/7347296/34198790-eb5bec96-e56b-11e7-90d5-157800e042de.png)\n",
    "\n"
   ]
  },
  {
   "cell_type": "code",
   "execution_count": 38,
   "metadata": {
    "colab": {},
    "colab_type": "code",
    "collapsed": true,
    "id": "0Bb0wljSn0rC"
   },
   "outputs": [],
   "source": [
    "import torch\n",
    "import torch.nn as nn\n",
    "\n",
    "class GraphConvolution(nn.Module):\n",
    "  \"\"\"\n",
    "    Simple graph convolution\n",
    "  \"\"\"\n",
    "  \n",
    "  def __init__(self, in_features, out_features, bias=True, batchnorm=False):\n",
    "    super(GraphConvolution, self).__init__()\n",
    "    self.in_features = in_features\n",
    "    self.out_features = out_features\n",
    "    self.bias = bias\n",
    "    self.fc = nn.Linear(self.in_features, self.out_features, bias=self.bias)\n",
    "    \n",
    "    self.batchnorm = batchnorm\n",
    "    \n",
    "      \n",
    "  #H are node features for all graphs batch\n",
    "  #W are adjacency matrix for all graphs batch\n",
    "  # GraphConv = AHW\n",
    "  def forward(self, H, A):\n",
    "    output = torch.matmul(A, H)\n",
    "    #FC is just a linear function input multiplied by the paramaters W\n",
    "    output = self.fc(output)\n",
    "    \n",
    "    return output"
   ]
  },
  {
   "cell_type": "markdown",
   "metadata": {
    "colab_type": "text",
    "id": "9-9eZEvJPb_r"
   },
   "source": [
    "## Define Model"
   ]
  },
  {
   "cell_type": "code",
   "execution_count": 39,
   "metadata": {
    "colab": {},
    "colab_type": "code",
    "collapsed": true,
    "id": "TRpKAHD1TQe3"
   },
   "outputs": [],
   "source": [
    "import torch.nn.functional as F\n",
    "# A Simple model with 2 graph conv layers and one linear layer for classification\n",
    "# activation function are ReLus\n",
    "class Net(nn.Module):\n",
    "  def __init__(self, in_dim, hidden_dim, n_classes):\n",
    "    super(Net, self).__init__()\n",
    "    self.layers = nn.ModuleList([\n",
    "        GraphConvolution(in_dim, hidden_dim),\n",
    "        GraphConvolution(hidden_dim, hidden_dim)])\n",
    "    self.classify = nn.Linear(hidden_dim, n_classes)\n",
    "    \n",
    "  def forward(self, h, adj, gs):\n",
    "    # Add self connections to the adjacency matrix\n",
    "    id = torch.eye(h.shape[0])\n",
    "    m_adj=id+adj  \n",
    "    for conv in self.layers:\n",
    "      h = F.relu(conv(h, m_adj))\n",
    "    \n",
    "    \n",
    "    # Average the nodes\n",
    "    #here we make the mean of the all the node embedding by graph\n",
    "    #we do that to obtain a single vector by graph\n",
    "    #we do that for classification purpose\n",
    "    count=0\n",
    "    hg=torch.zeros((gs.shape[0],h.shape[1]))\n",
    "    for i in range(0,gs.shape[0]):\n",
    "        hg[i]=h[count:count+gs[i]].mean(axis=0)\n",
    "        count=count+gs[i]\n",
    "    \n",
    "    return self.classify(hg)"
   ]
  },
  {
   "cell_type": "markdown",
   "metadata": {
    "colab_type": "text",
    "id": "8pPWJfxYUyXg"
   },
   "source": [
    "## Training setup"
   ]
  },
  {
   "cell_type": "code",
   "execution_count": 40,
   "metadata": {
    "colab": {},
    "colab_type": "code",
    "id": "inHmWtgwUxy-"
   },
   "outputs": [
    {
     "name": "stdout",
     "output_type": "stream",
     "text": [
      "Epoch 0, loss 3.7591\n",
      "Epoch 1, loss 2.4352\n",
      "Epoch 2, loss 1.9072\n",
      "Epoch 3, loss 1.6086\n",
      "Epoch 4, loss 1.3926\n",
      "Epoch 5, loss 1.1945\n",
      "Epoch 6, loss 1.0303\n",
      "Epoch 7, loss 0.9869\n",
      "Epoch 8, loss 0.9357\n",
      "Epoch 9, loss 0.8291\n",
      "Epoch 10, loss 0.7809\n",
      "Epoch 11, loss 0.7134\n",
      "Epoch 12, loss 0.7258\n",
      "Epoch 13, loss 0.6958\n",
      "Epoch 14, loss 0.6947\n",
      "Epoch 15, loss 0.6402\n",
      "Epoch 16, loss 0.6479\n",
      "Epoch 17, loss 0.6175\n",
      "Epoch 18, loss 0.6489\n",
      "Epoch 19, loss 0.6210\n"
     ]
    }
   ],
   "source": [
    "import torch.optim as optim\n",
    "\n",
    "model = Net(2, 256, trainset.num_classes)\n",
    "loss_func = nn.CrossEntropyLoss()\n",
    "optimizer = optim.Adam(model.parameters(), lr=0.01)\n",
    "model.train()\n",
    "\n",
    "\n",
    "epoch_losses = []\n",
    "for epoch in range(20):\n",
    "  epoch_loss = 0\n",
    "  for iter, (bn, be, gs, label) in enumerate(train_loader):\n",
    "    prediction = model(bn, be, gs)\n",
    "    loss = loss_func(prediction, label)\n",
    "    optimizer.zero_grad()\n",
    "    loss.backward()\n",
    "    optimizer.step()\n",
    "    epoch_loss += loss.detach().item()\n",
    "  epoch_loss /= (iter + 1)\n",
    "  print('Epoch {}, loss {:.4f}'.format(epoch, epoch_loss))\n",
    "  epoch_losses.append(epoch_loss)"
   ]
  },
  {
   "cell_type": "markdown",
   "metadata": {
    "colab_type": "text",
    "id": "BkxZZXdT9Kq_"
   },
   "source": [
    "## Evaluation"
   ]
  },
  {
   "cell_type": "code",
   "execution_count": 37,
   "metadata": {
    "colab": {},
    "colab_type": "code",
    "id": "argIxUM29II2"
   },
   "outputs": [
    {
     "name": "stdout",
     "output_type": "stream",
     "text": [
      "Test accuracy 51.2000\n"
     ]
    }
   ],
   "source": [
    "def accuracy(output, target):\n",
    "  \"\"\"Accuacy given a logit vector output and a target class\n",
    "  \"\"\"\n",
    "  _, pred = output.topk(1)\n",
    "  pred = pred.squeeze()\n",
    "  correct = pred == target\n",
    "  correct = correct.float()\n",
    "  return correct.sum() * 100.0 / correct.shape[0]\n",
    "\n",
    "\n",
    "model.eval()\n",
    "acc = 0\n",
    "with torch.no_grad():\n",
    "  for iter, (bn, be, gs, label) in enumerate(test_loader):\n",
    "    prediction = model(bn, be, gs)\n",
    "    acc += accuracy(prediction, label) * label.shape[0]\n",
    "acc = acc/len(testset)\n",
    "\n",
    "print('Test accuracy {:.4f}'.format(acc))"
   ]
  },
  {
   "cell_type": "markdown",
   "metadata": {
    "colab_type": "text",
    "id": "BKAjbEO3qxGb"
   },
   "source": [
    "## Plot results"
   ]
  },
  {
   "cell_type": "code",
   "execution_count": 13,
   "metadata": {
    "colab": {},
    "colab_type": "code",
    "id": "C_Lkp4sqeg8T"
   },
   "outputs": [
    {
     "data": {
      "image/png": "[encoded data removed]",
      "text/plain": [
       "<Figure size 432x288 with 1 Axes>"
      ]
     },
     "metadata": {},
     "output_type": "display_data"
    },
    {
     "name": "stdout",
     "output_type": "stream",
     "text": [
      "Label 13 Y; Prediction 13 Y\n"
     ]
    },
    {
     "data": {
      "image/png": "[encoded data removed]",
      "text/plain": [
       "<Figure size 432x288 with 1 Axes>"
      ]
     },
     "metadata": {},
     "output_type": "display_data"
    },
    {
     "name": "stdout",
     "output_type": "stream",
     "text": [
      "Label 11 W; Prediction 11 W\n"
     ]
    },
    {
     "data": {
      "image/png": "[encoded data removed]",
      "text/plain": [
       "<Figure size 432x288 with 1 Axes>"
      ]
     },
     "metadata": {},
     "output_type": "display_data"
    },
    {
     "name": "stdout",
     "output_type": "stream",
     "text": [
      "Label 10 V; Prediction 5 K\n"
     ]
    },
    {
     "data": {
      "image/png": "[encoded data removed]",
      "text/plain": [
       "<Figure size 432x288 with 1 Axes>"
      ]
     },
     "metadata": {},
     "output_type": "display_data"
    },
    {
     "name": "stdout",
     "output_type": "stream",
     "text": [
      "Label 13 Y; Prediction 13 Y\n"
     ]
    },
    {
     "data": {
      "image/png": "[encoded data removed]",
      "text/plain": [
       "<Figure size 432x288 with 1 Axes>"
      ]
     },
     "metadata": {},
     "output_type": "display_data"
    },
    {
     "name": "stdout",
     "output_type": "stream",
     "text": [
      "Label 6 L; Prediction 6 L\n"
     ]
    },
    {
     "data": {
      "image/png": "[encoded data removed]",
      "text/plain": [
       "<Figure size 432x288 with 1 Axes>"
      ]
     },
     "metadata": {},
     "output_type": "display_data"
    },
    {
     "name": "stdout",
     "output_type": "stream",
     "text": [
      "Label 11 W; Prediction 11 W\n"
     ]
    },
    {
     "data": {
      "image/png": "[encoded data removed]",
      "text/plain": [
       "<Figure size 432x288 with 1 Axes>"
      ]
     },
     "metadata": {},
     "output_type": "display_data"
    },
    {
     "name": "stdout",
     "output_type": "stream",
     "text": [
      "Label 8 N; Prediction 8 N\n"
     ]
    },
    {
     "data": {
      "image/png": "[encoded data removed]",
      "text/plain": [
       "<Figure size 432x288 with 1 Axes>"
      ]
     },
     "metadata": {},
     "output_type": "display_data"
    },
    {
     "name": "stdout",
     "output_type": "stream",
     "text": [
      "Label 14 Z; Prediction 14 Z\n"
     ]
    },
    {
     "data": {
      "image/png": "[encoded data removed]",
      "text/plain": [
       "<Figure size 432x288 with 1 Axes>"
      ]
     },
     "metadata": {},
     "output_type": "display_data"
    },
    {
     "name": "stdout",
     "output_type": "stream",
     "text": [
      "Label 5 K; Prediction 5 K\n"
     ]
    },
    {
     "data": {
      "image/png": "[encoded data removed]",
      "text/plain": [
       "<Figure size 432x288 with 1 Axes>"
      ]
     },
     "metadata": {},
     "output_type": "display_data"
    },
    {
     "name": "stdout",
     "output_type": "stream",
     "text": [
      "Label 9 T; Prediction 9 T\n"
     ]
    }
   ],
   "source": [
    "from random import randrange\n",
    "import matplotlib.pyplot as plt\n",
    "for i in range(10):\n",
    "  index = randrange(len(testset))\n",
    "  nod, edg, label = testset[index]\n",
    "  nodes, edges, gs = torch.from_numpy(nod).float(), torch.from_numpy(edg).float(), torch.tensor(nod.shape[0]).unsqueeze(0)\n",
    "  if torch.cuda.is_available():\n",
    "    nodes, edges, gs = nodes.cuda(), edges.cuda(), gs.cuda()\n",
    "  pred = model(nodes, edges, gs)\n",
    "  _, pred = pred.topk(1)\n",
    "  \n",
    "  G = nx.from_numpy_matrix(edg)\n",
    "  plt.figure(i)\n",
    "  position = {k: v for k, v in enumerate(nod)}\n",
    "  nx.draw(G, pos=position, arrows=False)\n",
    "  plt.show()\n",
    "  print('Label {} {}; Prediction {} {}'.format(label, testset.label2class(label), pred.item(), testset.label2class(pred.item())))"
   ]
  },
  {
   "cell_type": "markdown",
   "metadata": {},
   "source": [
    "# To do by the student"
   ]
  },
  {
   "cell_type": "markdown",
   "metadata": {},
   "source": [
    "## 1. Understand the class GraphConvolution\n",
    "## 2. Understand the class  Net"
   ]
  },
  {
   "cell_type": "markdown",
   "metadata": {},
   "source": [
    "# 3. Improved GCN Model\n",
    "## Code the following model\n",
    "![Graph Convolution](http://romain.raveaux.free.fr/document/gcnnimproved.PNG)\n",
    "## Tips\n",
    "\n",
    "### a°) The conv layer will take a list as an input :  [identity, adjacency]\n",
    "1. conv(h, [id,adj])\n",
    "\n",
    "### b°) The number of parameters should be twice bigger : 2* self.input W = [2* self.input, nb filters]\n",
    "\n",
    "### c°) First, try the model without the normalization it should work really fine\n",
    "### d°) Then introduce the normalization. A.sum(axis=0) should give you the degree for each node"
   ]
  },
  {
   "cell_type": "markdown",
   "metadata": {},
   "source": [
    "# 4. Test the new model\n",
    "# 5. Conclude"
   ]
  },
  {
   "cell_type": "code",
   "execution_count": null,
   "metadata": {
    "collapsed": true
   },
   "outputs": [],
   "source": []
  }
 ],
 "metadata": {
  "accelerator": "GPU",
  "colab": {
   "collapsed_sections": [],
   "name": "scratch_gmprdia2019.ipynb",
   "provenance": [],
   "toc_visible": true
  },
  "kernelspec": {
   "display_name": "Python 3",
   "language": "python",
   "name": "python3"
  },
  "language_info": {
   "codemirror_mode": {
    "name": "ipython",
    "version": 3
   },
   "file_extension": ".py",
   "mimetype": "text/x-python",
   "name": "python",
   "nbconvert_exporter": "python",
   "pygments_lexer": "ipython3",
   "version": "3.6.3"
  }
 },
 "nbformat": 4,
 "nbformat_minor": 1
}
